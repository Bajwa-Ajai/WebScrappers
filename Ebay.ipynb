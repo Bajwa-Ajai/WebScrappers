{
  "nbformat": 4,
  "nbformat_minor": 0,
  "metadata": {
    "colab": {
      "name": "Ebay.ipynb",
      "provenance": [],
      "collapsed_sections": [],
      "authorship_tag": "ABX9TyMvUCmTlSYryS3Rg3f+ijGg",
      "include_colab_link": true
    },
    "kernelspec": {
      "name": "python3",
      "display_name": "Python 3"
    },
    "language_info": {
      "name": "python"
    }
  },
  "cells": [
    {
      "cell_type": "markdown",
      "metadata": {
        "id": "view-in-github",
        "colab_type": "text"
      },
      "source": [
        "<a href=\"https://colab.research.google.com/github/Bajwa-Ajai/WebScrappers/blob/main/Ebay.ipynb\" target=\"_parent\"><img src=\"https://colab.research.google.com/assets/colab-badge.svg\" alt=\"Open In Colab\"/></a>"
      ]
    },
    {
      "cell_type": "code",
      "metadata": {
        "id": "optwUKOTCb09"
      },
      "source": [
        ""
      ],
      "execution_count": null,
      "outputs": []
    },
    {
      "cell_type": "code",
      "metadata": {
        "id": "6yKUlCFWVVPb"
      },
      "source": [
        "import requests\n",
        "from bs4 import BeautifulSoup\n",
        "import csv"
      ],
      "execution_count": null,
      "outputs": []
    },
    {
      "cell_type": "code",
      "metadata": {
        "id": "MYinn9ngXNZH"
      },
      "source": [
        "def get_page(url):\n",
        "  response=requests.get(url,allow_redirects=False)\n",
        "  #print(response.ok)\n",
        "  #print(response.status_code)\n",
        "  soup=BeautifulSoup(response.text,'lxml')\n",
        "  return soup"
      ],
      "execution_count": null,
      "outputs": []
    },
    {
      "cell_type": "code",
      "metadata": {
        "id": "8U5zQUUsXQAd"
      },
      "source": [
        "def get_detail_data(soup,l):\n",
        "  try:\n",
        "    title=soup.find('h1',id='itemTitle').text.strip().split('  ')[1].replace('\\xa0','')\n",
        "  except:\n",
        "    title=''\n",
        "  try:\n",
        "    price=soup.find('span',itemprop='price').text.strip().split()[1].replace('/ea','')\n",
        "  except:\n",
        "    price=''\n",
        "  try:\n",
        "    image=soup.find('img',id='icImg').get('src')\n",
        "  except:\n",
        "    image=''\n",
        "  try:\n",
        "    desc=soup.find_all('td',class_='attrLabels')\n",
        "    attr=soup.find('div',class_='section')\n",
        "    attr1=attr.find_all('td',width='50.0%')\n",
        "    de={}\n",
        "    for y in range(1,len(attr1)):\n",
        "      de[desc[y].text.strip()]=attr1[y].text.strip()\n",
        "  except:\n",
        "    de=''\n",
        "  try:\n",
        "    cat1=soup.find_all('span',itemprop='name')\n",
        "    cat=cat1[0].text.strip()\n",
        "  except:\n",
        "    cat=''\n",
        "  try:\n",
        "    cat1=soup.find_all('span',itemprop='name')\n",
        "    subcat=cat1[1].text.strip()\n",
        "  except:\n",
        "    subcat=''\n",
        "  try:\n",
        "    cat1=soup.find_all('span',itemprop='name')\n",
        "    subcat1=cat1[2].text.strip()\n",
        "    #print(subcat1)\n",
        "  except:\n",
        "    subcat1=''\n",
        "  \n",
        "  data={\n",
        "      'category':cat,\n",
        "      'sub-category':subcat,\n",
        "      'sub-category1':subcat1,\n",
        "      'title':title,\n",
        "      'image':image,\n",
        "      'price':price,\n",
        "      'description':de,\n",
        "      'link':l   \n",
        "  }\n",
        "  return data"
      ],
      "execution_count": null,
      "outputs": []
    },
    {
      "cell_type": "code",
      "metadata": {
        "id": "AG38fBqFXS94"
      },
      "source": [
        "def get_index_data(soup):\n",
        "  try:\n",
        "    links=soup.find_all('a',class_='s-item__link')\n",
        "  except:\n",
        "    links=[]\n",
        "  urls=[item.get('href') for item in links]\n",
        "  return urls\n",
        "  "
      ],
      "execution_count": null,
      "outputs": []
    },
    {
      "cell_type": "code",
      "metadata": {
        "id": "BU7nBkFXXUsL"
      },
      "source": [
        "def get_category(soup):\n",
        "  link=soup.find_all('a',class_='b-textlink b-textlink--parent')\n",
        "  \n",
        "  urls=[item.get('href') for item in link]\n",
        "  return urls"
      ],
      "execution_count": null,
      "outputs": []
    },
    {
      "cell_type": "code",
      "metadata": {
        "id": "xxbp0sxFXXIG"
      },
      "source": [
        "def get_base(soup):\n",
        "  elem=soup.find_all('a',class_='cat-url')\n",
        "  urls=[item.get('href') for item in elem]\n",
        "  return urls\n"
      ],
      "execution_count": null,
      "outputs": []
    },
    {
      "cell_type": "code",
      "metadata": {
        "id": "5aKBd74dXaZE"
      },
      "source": [
        "def write_csv(data):\n",
        "  with open('ebay6(Elec)(2).csv','a') as csvfile:\n",
        "    writer=csv.writer(csvfile)\n",
        "    row=[data['category'],data['sub-category'],data['sub-category1'],data['link'],data['title'],data['description'],data['price'],data['image']]\n",
        "\n",
        "    writer.writerow(row)"
      ],
      "execution_count": null,
      "outputs": []
    },
    {
      "cell_type": "code",
      "metadata": {
        "id": "2UAYDt7L_xpp"
      },
      "source": [
        "urls=['https://www.ebay.com/b/Graphics-Video-Cards/27386/bn_661796',\n",
        "      'https://www.ebay.com/b/Refrigerators-/20713',\n",
        "      'https://www.ebay.com/b/Tea-Kettles/133705',\n",
        "      'https://www.ebay.com/b/Camera-Drones/179697',\n",
        "      'https://www.ebay.com/b/Digital-Cameras/31388',\n",
        "      'https://www.ebay.com/b/Binoculars-Telescopes/28179',\n",
        "      'https://www.ebay.com/b/Tripods-Supports/30090',\n",
        "    ]"
      ],
      "execution_count": null,
      "outputs": []
    },
    {
      "cell_type": "code",
      "metadata": {
        "colab": {
          "base_uri": "https://localhost:8080/"
        },
        "id": "q6O8ASdcYF86",
        "outputId": "4a4fb8fc-5734-427d-87eb-1ff9561c12ec"
      },
      "source": [
        "for url in urls:\n",
        "  for j in range(1,5):\n",
        "      temp=url+'?_pgn='+str(j)\n",
        "      print(temp)\n",
        "      products = get_index_data(get_page(temp))\n",
        "      for links in products:\n",
        "        data=get_detail_data(get_page(links),links)\n",
        "        print(data)\n",
        "        write_csv(data)"
      ],
      "execution_count": null,
      "outputs": [
        {
          "output_type": "stream",
          "name": "stdout",
          "text": [
            "https://www.ebay.com/b/Graphics-Video-Cards/27386/bn_661796?_pgn=1\n",
            "https://www.ebay.com/b/Graphics-Video-Cards/27386/bn_661796?_pgn=2\n",
            "https://www.ebay.com/b/Graphics-Video-Cards/27386/bn_661796?_pgn=3\n",
            "https://www.ebay.com/b/Graphics-Video-Cards/27386/bn_661796?_pgn=4\n",
            "https://www.ebay.com/b/Refrigerators-/20713?_pgn=1\n",
            "https://www.ebay.com/b/Refrigerators-/20713?_pgn=2\n",
            "https://www.ebay.com/b/Refrigerators-/20713?_pgn=3\n",
            "https://www.ebay.com/b/Refrigerators-/20713?_pgn=4\n",
            "https://www.ebay.com/b/Tea-Kettles/133705?_pgn=1\n",
            "https://www.ebay.com/b/Tea-Kettles/133705?_pgn=2\n",
            "https://www.ebay.com/b/Tea-Kettles/133705?_pgn=3\n",
            "https://www.ebay.com/b/Tea-Kettles/133705?_pgn=4\n",
            "https://www.ebay.com/b/Camera-Drones/179697?_pgn=1\n",
            "https://www.ebay.com/b/Camera-Drones/179697?_pgn=2\n",
            "https://www.ebay.com/b/Camera-Drones/179697?_pgn=3\n",
            "https://www.ebay.com/b/Camera-Drones/179697?_pgn=4\n",
            "https://www.ebay.com/b/Digital-Cameras/31388?_pgn=1\n",
            "https://www.ebay.com/b/Digital-Cameras/31388?_pgn=2\n",
            "https://www.ebay.com/b/Digital-Cameras/31388?_pgn=3\n",
            "https://www.ebay.com/b/Digital-Cameras/31388?_pgn=4\n",
            "https://www.ebay.com/b/Binoculars-Telescopes/28179?_pgn=1\n",
            "https://www.ebay.com/b/Binoculars-Telescopes/28179?_pgn=2\n",
            "https://www.ebay.com/b/Binoculars-Telescopes/28179?_pgn=3\n",
            "https://www.ebay.com/b/Binoculars-Telescopes/28179?_pgn=4\n",
            "https://www.ebay.com/b/Tripods-Supports/30090?_pgn=1\n",
            "https://www.ebay.com/b/Tripods-Supports/30090?_pgn=2\n",
            "https://www.ebay.com/b/Tripods-Supports/30090?_pgn=3\n",
            "https://www.ebay.com/b/Tripods-Supports/30090?_pgn=4\n"
          ]
        }
      ]
    },
    {
      "cell_type": "code",
      "metadata": {
        "id": "xiNbyqD_Fw2A"
      },
      "source": [
        ""
      ],
      "execution_count": null,
      "outputs": []
    }
  ]
}